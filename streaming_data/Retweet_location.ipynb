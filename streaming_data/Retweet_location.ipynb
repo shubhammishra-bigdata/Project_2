{
 "cells": [
  {
   "cell_type": "code",
   "execution_count": 1,
   "metadata": {},
   "outputs": [],
   "source": [
    "import os\n",
    "import tweepy as tw"
   ]
  },
  {
   "cell_type": "code",
   "execution_count": 4,
   "metadata": {},
   "outputs": [],
   "source": [
    "consumer_key = 'PApQojAQOSd8iWdMdWeumD5i2'\n",
    "consumer_secret = 'lUEA33FLEUK1hO52LlLnRbFulopaDYYLes5EDqnImO5XmyPqLg'\n",
    "access_token = '1425317741997694976-IkA7s2zdUdQp1XdiO2YZaWDaUTSk3D'\n",
    "access_token_secret = 'jdb2xaTL50gfiyIGx6aNMwihLe0ff0T4peX0ectErrYEy'"
   ]
  },
  {
   "cell_type": "code",
   "execution_count": 5,
   "metadata": {},
   "outputs": [],
   "source": [
    "auth = tw.OAuthHandler(consumer_key, consumer_secret)\n",
    "auth.set_access_token(access_token, access_token_secret)\n",
    "api = tw.API(auth, wait_on_rate_limit=True)"
   ]
  },
  {
   "cell_type": "code",
   "execution_count": 12,
   "metadata": {},
   "outputs": [],
   "source": [
    "search_words = \"#Robin\"\n",
    "date_since = \"2018-11-16\""
   ]
  },
  {
   "cell_type": "code",
   "execution_count": 13,
   "metadata": {},
   "outputs": [
    {
     "data": {
      "text/plain": [
       "['🏳️\\u200d🌈 FUN FACT FRIDAY - The character of Batman debuted in May 1939 in Detective Comics number 27. Robin came about… https://t.co/U6HsBCizsc',\n",
       " 'RT @automeruz: congrats tim!!!!!!!! #Robin https://t.co/c6lP4nwDLc',\n",
       " \"Okay I still can't believe #DCtitans really put other #Robin (s) easter eggsssss🤩🤩🤩🦇 this makes me even more excite… https://t.co/SD0qkEJd4n\",\n",
       " 'RT @verlangenlotte: Happy for #TimDrake #Robin #dccomics https://t.co/7PqyMxDM17',\n",
       " 'LAD &amp; GENTS, TIM DRAKE😎😎 #DCTitans #Robin https://t.co/SOjmHbzmWA',\n",
       " 'RT @Dickrocho: #Robin \\n\\nPast and present robins\\n\\nNightwing,red hood,red robin,robin\\n(Dick Grayson,Jason Todd,Tim Drake,Damian wayne) https:…',\n",
       " 'RT @verlangenlotte: Happy for #TimDrake #Robin #dccomics https://t.co/7PqyMxDM17',\n",
       " 'RT @Sundy_Jones: #TimDrake has always been my favourite #Robin and I’m hoping to see more great stories with him https://t.co/6yLxHApsWC',\n",
       " \"The fact that some a-holes have problem that Robin (Tim Drake) is queer and that Robin shouldn't be queer, but didn… https://t.co/rohyk5zHte\",\n",
       " 'RT @Inkwhite_mo: #jondami #superboy #robin #damianwayne #jonathankent \\nDrew this cutest ship that I’ve ever seen in my life https://t.co/2n…',\n",
       " 'RT @LoreleiEsther: Congrats to #TimDrake for coming out! Thank you, @DCComics , for making it happen. \\n\\n#watercolor #dccomics #lgbt #robin…',\n",
       " 'RT @ilbutman: Major Issues: Batman Returns to Tim Burton’s World &amp; the Defenders Assemble - CBR - Comic Book Resources https://t.co/Wi9OGHM…',\n",
       " 'RT @LoreleiEsther: Congrats to #TimDrake for coming out! Thank you, @DCComics , for making it happen. \\n\\n#watercolor #dccomics #lgbt #robin…',\n",
       " 'RT @verlangenlotte: Happy for #TimDrake #Robin #dccomics https://t.co/7PqyMxDM17',\n",
       " 'GREAT FIRST 3 EPISODES IN SEASON 3. GOOD WRITING AND WELL-PACED. CAN’T WAIT FOR THE NEXT ONE AND SO ON. \\n\\n#DCTitans… https://t.co/wJNIRVNldr']"
      ]
     },
     "execution_count": 13,
     "metadata": {},
     "output_type": "execute_result"
    }
   ],
   "source": [
    "tweets = tw.Cursor(api.search,\n",
    "                       q=search_words,\n",
    "                       lang=\"en\",\n",
    "                       since=date_since).items(15)\n",
    "\n",
    "# Collect a list of tweets\n",
    "[tweet.text for tweet in tweets]"
   ]
  },
  {
   "cell_type": "code",
   "execution_count": 14,
   "metadata": {},
   "outputs": [
    {
     "data": {
      "text/plain": [
       "'#Robin -filter:retweets'"
      ]
     },
     "execution_count": 14,
     "metadata": {},
     "output_type": "execute_result"
    }
   ],
   "source": [
    "new_search = search_words + \" -filter:retweets\"\n",
    "new_search"
   ]
  },
  {
   "cell_type": "code",
   "execution_count": 15,
   "metadata": {},
   "outputs": [
    {
     "data": {
      "text/plain": [
       "[['prideinlaw', 'Australia'],\n",
       " ['MaxBooc', 'Titans Tower'],\n",
       " ['MaxBooc', 'Titans Tower'],\n",
       " ['gAmEchangerMiky', 'Not english speaking country'],\n",
       " ['ZVdrSpDr12', '313 The Park: Land of Ooo: NYC'],\n",
       " ['royalmaniax', 'Planet Earth'],\n",
       " ['TStoater', ''],\n",
       " ['ilbutman', 'Gotham City'],\n",
       " ['taicheUK', 'Turkey and UK'],\n",
       " ['dich62', ''],\n",
       " ['B5vsDS9', 'Atlanta, GA'],\n",
       " ['Jimmystardust79', 'London, England'],\n",
       " ['NightCoffee99', 'BFE'],\n",
       " ['GeekIreland', 'Ireland'],\n",
       " ['iamdanielmyles', 'Lion’s Den']]"
      ]
     },
     "execution_count": 15,
     "metadata": {},
     "output_type": "execute_result"
    }
   ],
   "source": [
    "tweets = tw.Cursor(api.search, \n",
    "                           q=new_search,\n",
    "                           lang=\"en\",\n",
    "                           since=date_since).items(15)\n",
    "\n",
    "users_locs = [[tweet.user.screen_name, tweet.user.location] for tweet in tweets]\n",
    "users_locs"
   ]
  },
  {
   "cell_type": "code",
   "execution_count": null,
   "metadata": {},
   "outputs": [],
   "source": []
  }
 ],
 "metadata": {
  "kernelspec": {
   "display_name": "Python 3",
   "language": "python",
   "name": "python3"
  },
  "language_info": {
   "codemirror_mode": {
    "name": "ipython",
    "version": 3
   },
   "file_extension": ".py",
   "mimetype": "text/x-python",
   "name": "python",
   "nbconvert_exporter": "python",
   "pygments_lexer": "ipython3",
   "version": "3.8.5"
  }
 },
 "nbformat": 4,
 "nbformat_minor": 4
}
